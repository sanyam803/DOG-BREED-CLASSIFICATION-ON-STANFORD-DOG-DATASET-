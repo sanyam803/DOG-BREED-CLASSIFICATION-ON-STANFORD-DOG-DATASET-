{
 "cells": [
  {
   "cell_type": "code",
   "execution_count": 1,
   "metadata": {},
   "outputs": [
    {
     "name": "stdout",
     "output_type": "stream",
     "text": [
      "E:\\dog-breed-classifier\n"
     ]
    }
   ],
   "source": [
    "cd E:\\dog-breed-classifier"
   ]
  },
  {
   "cell_type": "code",
   "execution_count": 2,
   "metadata": {},
   "outputs": [
    {
     "name": "stderr",
     "output_type": "stream",
     "text": [
      "Using TensorFlow backend.\n"
     ]
    }
   ],
   "source": [
    "import utils_channels_last\n",
    "from utils_channels_last import Vgg16BN\n"
   ]
  },
  {
   "cell_type": "code",
   "execution_count": 3,
   "metadata": {
    "collapsed": true
   },
   "outputs": [],
   "source": [
    "import numpy as np\n",
    "from utils_channels_last import Vgg16BN\n",
    "from keras.utils.np_utils import to_categorical\n",
    "from keras.preprocessing.image import ImageDataGenerator\n",
    "from keras.optimizers import SGD, RMSprop, Adam\n",
    "from keras.layers.core import Flatten, Dense, Dropout\n",
    "from keras.layers.normalization import BatchNormalization\n",
    "from keras.models import Model"
   ]
  },
  {
   "cell_type": "markdown",
   "metadata": {},
   "source": [
    "## Classifying the Dog Breed Using (Transfer Leraning)\n",
    "Here we are using  pretrained VGG16BN network .Since there are less no. of images per class.There is a high chance of overfitting so we use VGG16 network with Batch Normalization."
   ]
  },
  {
   "cell_type": "code",
   "execution_count": 4,
   "metadata": {
    "collapsed": true
   },
   "outputs": [],
   "source": [
    "batch_size=64##This parameter should Be set according to your GPU/CPU capacity . Else Be Ready FOr Exhaust Error!\n",
    "num_classes = 120\n",
    "image_size = 224\n",
    "num_channels = 3"
   ]
  },
  {
   "cell_type": "markdown",
   "metadata": {},
   "source": [
    "## IMAGE DATA  AUGMENTATION \n",
    "Here we use data Augmentation as Described in the previous post."
   ]
  },
  {
   "cell_type": "code",
   "execution_count": 5,
   "metadata": {},
   "outputs": [
    {
     "name": "stdout",
     "output_type": "stream",
     "text": [
      "Found 12000 images belonging to 120 classes.\n",
      "Found 8580 images belonging to 120 classes.\n"
     ]
    }
   ],
   "source": [
    "train_datagen = ImageDataGenerator(rotation_range=15, shear_range=0.1, channel_shift_range=20,\n",
    "                                    width_shift_range=0.1,  height_shift_range=0.1, zoom_range=0.1, horizontal_flip=True)\n",
    "\n",
    "test_datagen = ImageDataGenerator()\n",
    "\n",
    "train_generator = train_datagen.flow_from_directory('cropped/train', target_size=(224,224),\n",
    "            class_mode='categorical', shuffle=True, batch_size=batch_size)\n",
    "\n",
    "validation_generator = test_datagen.flow_from_directory('cropped/test', target_size=(224,224),\n",
    "            class_mode='categorical', shuffle=False, batch_size=batch_size)"
   ]
  },
  {
   "cell_type": "code",
   "execution_count": 6,
   "metadata": {},
   "outputs": [
    {
     "name": "stderr",
     "output_type": "stream",
     "text": [
      "E:\\dog-breed-classifier\\utils_channels_last.py:58: UserWarning: Update your `Conv2D` call to the Keras 2 API: `Conv2D(64, (3, 3), activation=\"relu\")`\n",
      "  model.add(Convolution2D(filters, 3, 3, activation='relu'))\n",
      "E:\\dog-breed-classifier\\utils_channels_last.py:58: UserWarning: Update your `Conv2D` call to the Keras 2 API: `Conv2D(128, (3, 3), activation=\"relu\")`\n",
      "  model.add(Convolution2D(filters, 3, 3, activation='relu'))\n",
      "E:\\dog-breed-classifier\\utils_channels_last.py:58: UserWarning: Update your `Conv2D` call to the Keras 2 API: `Conv2D(256, (3, 3), activation=\"relu\")`\n",
      "  model.add(Convolution2D(filters, 3, 3, activation='relu'))\n",
      "E:\\dog-breed-classifier\\utils_channels_last.py:58: UserWarning: Update your `Conv2D` call to the Keras 2 API: `Conv2D(512, (3, 3), activation=\"relu\")`\n",
      "  model.add(Convolution2D(filters, 3, 3, activation='relu'))\n",
      "C:\\Users\\SANYAM\\Anaconda3\\lib\\site-packages\\ipykernel_launcher.py:16: UserWarning: Update your `Model` call to the Keras 2 API: `Model(inputs=Tensor(\"la..., outputs=Tensor(\"de...)`\n",
      "  app.launch_new_instance()\n"
     ]
    }
   ],
   "source": [
    "base_model = Vgg16BN(include_top=False).model\n",
    "x = base_model.output\n",
    "x = Flatten()(x)\n",
    "x = Dropout(0.4)(x)\n",
    "# let's add two fully-connected layer\n",
    "x = Dense(2048, activation='relu')(x)\n",
    "x = BatchNormalization()(x)\n",
    "x = Dropout(0.4)(x)\n",
    "x = Dense(2048, activation='relu')(x)\n",
    "x = BatchNormalization()(x)\n",
    "x = Dropout(0.2)(x)\n",
    "# and a softmax layer -- let's say we have 200 classes\n",
    "predictions = Dense(num_classes, activation='softmax')(x)\n",
    "\n",
    "# this is the model we will train\n",
    "model = Model(input=base_model.input, output=predictions)\n",
    "\n",
    "# first: train only the top layers (which were randomly initialized)\n",
    "# i.e. freeze all convolutional InceptionV3 layers\n",
    "for layer in base_model.layers:\n",
    "    layer.trainable = False\n",
    "\n",
    "# compile the model (should be done *after* setting layers to non-trainable)\n",
    "model.compile(optimizer=Adam(lr=0.0001), loss='categorical_crossentropy', metrics=['accuracy'])"
   ]
  },
  {
   "cell_type": "code",
   "execution_count": 8,
   "metadata": {},
   "outputs": [
    {
     "name": "stdout",
     "output_type": "stream",
     "text": [
      "Epoch 1/10\n",
      "12000/12000 [==============================] - 520s - loss: 3.5297 - acc: 0.2190 - val_loss: 1.4586 - val_acc: 0.5924\n",
      "Epoch 2/10\n",
      "12000/12000 [==============================] - 520s - loss: 1.8535 - acc: 0.4918 - val_loss: 1.0614 - val_acc: 0.6801\n",
      "Epoch 3/10\n",
      "12000/12000 [==============================] - 520s - loss: 1.3982 - acc: 0.5973 - val_loss: 0.9268 - val_acc: 0.7228\n",
      "Epoch 4/10\n",
      "12000/12000 [==============================] - 520s - loss: 1.1430 - acc: 0.6581 - val_loss: 0.8699 - val_acc: 0.7353\n",
      "Epoch 5/10\n",
      "12000/12000 [==============================] - 520s - loss: 0.9977 - acc: 0.7038 - val_loss: 0.8191 - val_acc: 0.7471\n",
      "Epoch 6/10\n",
      "12000/12000 [==============================] - 520s - loss: 0.8887 - acc: 0.7325 - val_loss: 0.7997 - val_acc: 0.7506\n",
      "Epoch 7/10\n",
      "12000/12000 [==============================] - 520s - loss: 0.7966 - acc: 0.7564 - val_loss: 0.8051 - val_acc: 0.7542\n",
      "Epoch 8/10\n",
      "12000/12000 [==============================] - 521s - loss: 0.7326 - acc: 0.7716 - val_loss: 0.7861 - val_acc: 0.7624\n",
      "Epoch 9/10\n",
      "12000/12000 [==============================] - 521s - loss: 0.6824 - acc: 0.7887 - val_loss: 0.7878 - val_acc: 0.7589\n",
      "Epoch 10/10\n",
      "12000/12000 [==============================] - 521s - loss: 0.6246 - acc: 0.8008 - val_loss: 0.7945 - val_acc: 0.7573\n"
     ]
    },
    {
     "data": {
      "text/plain": [
       "<keras.callbacks.History at 0x7f5d2420bcd0>"
      ]
     },
     "execution_count": 8,
     "metadata": {},
     "output_type": "execute_result"
    }
   ],
   "source": [
    "model.fit_generator(train_generator, samples_per_epoch=train_generator.nb_sample, nb_epoch=10, \n",
    "                        validation_data=validation_generator, nb_val_samples=validation_generator.nb_sample)"
   ]
  },
  {
   "cell_type": "code",
   "execution_count": 9,
   "metadata": {},
   "outputs": [
    {
     "name": "stdout",
     "output_type": "stream",
     "text": [
      "Epoch 1/10\n",
      "12000/12000 [==============================] - 521s - loss: 0.6018 - acc: 0.8064 - val_loss: 0.7918 - val_acc: 0.7621\n",
      "Epoch 2/10\n",
      "12000/12000 [==============================] - 520s - loss: 0.5409 - acc: 0.8280 - val_loss: 0.7746 - val_acc: 0.7693\n",
      "Epoch 3/10\n",
      "12000/12000 [==============================] - 520s - loss: 0.5194 - acc: 0.8340 - val_loss: 0.7987 - val_acc: 0.7671\n",
      "Epoch 4/10\n",
      "12000/12000 [==============================] - 520s - loss: 0.4842 - acc: 0.8462 - val_loss: 0.7950 - val_acc: 0.7633\n",
      "Epoch 5/10\n",
      "12000/12000 [==============================] - 520s - loss: 0.4513 - acc: 0.8544 - val_loss: 0.7906 - val_acc: 0.7670\n",
      "Epoch 6/10\n",
      "12000/12000 [==============================] - 520s - loss: 0.4190 - acc: 0.8658 - val_loss: 0.7987 - val_acc: 0.7678\n",
      "Epoch 7/10\n",
      "12000/12000 [==============================] - 520s - loss: 0.4149 - acc: 0.8697 - val_loss: 0.7999 - val_acc: 0.7723\n",
      "Epoch 8/10\n",
      "12000/12000 [==============================] - 520s - loss: 0.3958 - acc: 0.8748 - val_loss: 0.8177 - val_acc: 0.7669\n",
      "Epoch 9/10\n",
      "12000/12000 [==============================] - 520s - loss: 0.3779 - acc: 0.8806 - val_loss: 0.8252 - val_acc: 0.7640\n",
      "Epoch 10/10\n",
      "12000/12000 [==============================] - 520s - loss: 0.3603 - acc: 0.8832 - val_loss: 0.8433 - val_acc: 0.7653\n"
     ]
    },
    {
     "data": {
      "text/plain": [
       "<keras.callbacks.History at 0x7f5d2420d990>"
      ]
     },
     "execution_count": 9,
     "metadata": {},
     "output_type": "execute_result"
    }
   ],
   "source": [
    "model.optimizer.lr = 1e6\n",
    "model.fit_generator(train_generator, samples_per_epoch=train_generator.nb_sample, nb_epoch=10, \n",
    "                        validation_data=validation_generator, nb_val_samples=validation_generator.nb_sample)"
   ]
  },
  {
   "cell_type": "code",
   "execution_count": 12,
   "metadata": {
    "collapsed": true
   },
   "outputs": [],
   "source": [
    "model.save_weights('vgg_model_weights.h5')"
   ]
  }
 ],
 "metadata": {
  "anaconda-cloud": {},
  "kernelspec": {
   "display_name": "Python 3",
   "language": "python",
   "name": "python3"
  },
  "language_info": {
   "codemirror_mode": {
    "name": "ipython",
    "version": 3
   },
   "file_extension": ".py",
   "mimetype": "text/x-python",
   "name": "python",
   "nbconvert_exporter": "python",
   "pygments_lexer": "ipython3",
   "version": "3.6.3"
  }
 },
 "nbformat": 4,
 "nbformat_minor": 2
}
